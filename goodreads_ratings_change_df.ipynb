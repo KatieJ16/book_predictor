{
 "cells": [
  {
   "cell_type": "code",
   "execution_count": 1,
   "id": "4d59508f",
   "metadata": {},
   "outputs": [],
   "source": [
    "import requests\n",
    "from bs4 import BeautifulSoup\n",
    "import pandas as pd\n",
    "import time\n",
    "from tqdm import tqdm\n",
    "from sklearn.neighbors import NearestNeighbors\n",
    "import numpy as np\n",
    "import random\n",
    "import pickle \n",
    "\n",
    "def scrape_goodreads_ratings(user_id, max_pages=10):\n",
    "    \"\"\"\n",
    "    Scrape a user's star ratings from Goodreads.\n",
    "    \n",
    "    Args:\n",
    "    - user_id (str): Goodreads user ID or profile suffix.\n",
    "    - max_pages (int): Maximum number of pages to scrape (each page contains ~30 books).\n",
    "    \n",
    "    Returns:\n",
    "    - pd.DataFrame: A DataFrame containing book titles and ratings.\n",
    "    \"\"\"\n",
    "    base_url = f\"https://www.goodreads.com/review/list/{user_id}?shelf=read\"\n",
    "    headers = {\"User-Agent\": \"Mozilla/5.0\"}\n",
    "    books = []\n",
    "\n",
    "    for page in range(1, max_pages + 1):\n",
    "        url = f\"{base_url}&page={page}\"\n",
    "        response = requests.get(url, headers=headers)\n",
    "        \n",
    "        if response.status_code != 200:\n",
    "            print(f\"Failed to fetch page {page}. Status code: {response.status_code}\")\n",
    "            break\n",
    "\n",
    "        soup = BeautifulSoup(response.content, \"html.parser\")\n",
    "        \n",
    "        # Find all book entries in the table\n",
    "        rows = soup.find_all(\"tr\", class_=\"bookalike review\")\n",
    "        if not rows:\n",
    "            print(\"No more data found.\")\n",
    "            break\n",
    "\n",
    "        for row in rows:\n",
    "            try:\n",
    "                title = row.find(\"td\", class_=\"field title\").a.text.strip()\n",
    "                rating_element = row.find(\"td\", class_=\"field rating\")\n",
    "                rating = rating_element.find(\"span\", class_=\"staticStars\").get(\"title\", \"No rating\")\n",
    "                stars = map_rating(rating)\n",
    "                books.append({\"Title\": title, \"Rating\": stars, \"User_id\": user_id})\n",
    "#                 print(title, rating, stars)\n",
    "            except AttributeError:\n",
    "                # Handle rows with missing data\n",
    "                continue\n",
    "\n",
    "        print(f\"Page {page} scraped successfully.\")\n",
    "        time.sleep(random.uniform(1, 5))  # Be kind to the server and avoid being blocked\n",
    "\n",
    "    # Return data as a pandas DataFrame\n",
    "    return pd.DataFrame(books)\n",
    "\n"
   ]
  },
  {
   "cell_type": "code",
   "execution_count": 2,
   "id": "1625fe4d",
   "metadata": {},
   "outputs": [],
   "source": [
    "def map_rating(phrase):\n",
    "    rating_map = {\n",
    "        \"liked it\": 3,\n",
    "        \"really liked it\": 4,\n",
    "        \"it was ok\": 2, \n",
    "        \"it was amazing\": 5, \n",
    "        \"did not like it\": 1,\n",
    "    }\n",
    "    \n",
    "    return rating_map.get(phrase, \"Invalid rating\")  # Default to \"Invalid rating\" if the phrase isn't in the dictionary\n"
   ]
  },
  {
   "cell_type": "code",
   "execution_count": 3,
   "id": "69c972d7",
   "metadata": {},
   "outputs": [],
   "source": [
    "# if __name__ == \"__main__\":\n",
    "# #     user_id = \"6688207\"  # Replace with the Goodreads user ID or profile suffix\n",
    "# #     for user_id in tqdm(['30181442', '75009563', '11345366', '110912303', '113964939', '11215896', '53701594', '4622890', '93628736', '176180116']):\n",
    "# #     for user_id in tqdm(['2974095', '4622890', '28953843', '16174645', '4159922', '4125660', '54886546', '16912659', '260116', '4685500', '21865425']):\n",
    "# #     for user_id in tqdm(['53701594', '27709782', '7566229', '16652861', '30817744', '56259255', '4125660', '60964126', \n",
    "# #                          '176167767', '28510930', '1029975', '131020767', '28862120', '88713906', '160141433', '41097916', \n",
    "# #                          '20809863', '69519261', '24017481', '7376365', '75941333', '13571407', '106618742', '17792052',\n",
    "# #                          '3534528', '130656897', '7474475', '4125412', '6336365', '6026811', '3438047']):\n",
    "#     for user_id in ['169695556']:\n",
    "#         print(\"User_id = \", user_id)\n",
    "#         max_pages = 30  # Adjust based on expected data\n",
    "#         ratings_data = scrape_goodreads_ratings(user_id, max_pages)\n",
    "\n",
    "#         if not ratings_data.empty:\n",
    "# #             print(ratings_data.head())\n",
    "# #             ratings_data.to_csv(\"goodreads_ratings.csv\", index=False)\n",
    "#             ratings_data.to_csv('goodreads_ratings.csv', mode='a', header=False, index=False)\n",
    "#             print(\"Data saved to goodreads_ratings.csv.\")\n",
    "#         else:\n",
    "#             print(\"No data retrieved.\")\n"
   ]
  },
  {
   "cell_type": "code",
   "execution_count": 4,
   "id": "188b968a",
   "metadata": {},
   "outputs": [
    {
     "name": "stdout",
     "output_type": "stream",
     "text": [
      "(268475, 3)\n",
      "(261826, 3)\n",
      "                                                    Title          Rating  \\\n",
      "0                                       I Am Watching You               3   \n",
      "1       Three to Get Deadly\\n        (Stephanie Plum, #3)               3   \n",
      "2       Before the Coffee Gets Cold\\n        (Before t...               4   \n",
      "3       Dark Sacred Night\\n        (Renée Ballard, #2;...               4   \n",
      "4         Two for the Dough\\n        (Stephanie Plum, #2)               4   \n",
      "...                                                   ...             ...   \n",
      "268470                                           Stardust  Invalid rating   \n",
      "268471                                 The Graveyard Book  Invalid rating   \n",
      "268472                   The Ocean at the End of the Lane  Invalid rating   \n",
      "268473                                      American Gods  Invalid rating   \n",
      "268474                           Neil Gaiman's Neverwhere  Invalid rating   \n",
      "\n",
      "          User_id  \n",
      "0       169695558  \n",
      "1       169695558  \n",
      "2       169695558  \n",
      "3       169695558  \n",
      "4       169695558  \n",
      "...           ...  \n",
      "268470   89301330  \n",
      "268471   89301330  \n",
      "268472   89301330  \n",
      "268473   89301330  \n",
      "268474   89301330  \n",
      "\n",
      "[261826 rows x 3 columns]\n",
      "Harry Potter and the Sorcerer's Stone\\n        (Harry Potter, #1)    644\n",
      "To Kill a Mockingbird                                                577\n",
      "The Hunger Games\\n        (The Hunger Games, #1)                     555\n",
      "Twilight\\n        (The Twilight Saga, #1)                            532\n",
      "The Great Gatsby                                                     491\n",
      "                                                                    ... \n",
      "The Backbone of the World                                              1\n",
      "Sacred Contracts: Awakening Your Divine Potential                      1\n",
      "All The Dark Places                                                    1\n",
      "An Open Heart: Practicing Compassion in Everyday Life                  1\n",
      "American Gods: Shadows #2                                              1\n",
      "Name: Title, Length: 106552, dtype: int64\n",
      "Number of unique books:  106552\n",
      "number of users is:  3350\n"
     ]
    }
   ],
   "source": [
    "df = pd.read_csv('goodreads_ratings.csv')\n",
    "print(df.shape)\n",
    "df = df.drop_duplicates()\n",
    "print(df.shape)\n",
    "# Print the entire DataFrame\n",
    "print(df)\n",
    "\n",
    "duplicate_count = df['Title'].duplicated().sum()\n",
    "# print(\"Number of books with at least two people rating it:\", duplicate_count)\n",
    "duplicate_counts_per_value = df['Title'].value_counts()\n",
    "print(duplicate_counts_per_value)\n",
    "print(\"Number of unique books: \", df['Title'].nunique())\n",
    "num_users = df['User_id'].nunique()\n",
    "user_ids = list(df['User_id'].unique())\n",
    "print(\"number of users is: \", num_users)\n",
    "# print(\"user_ids = \", user_ids)"
   ]
  },
  {
   "cell_type": "code",
   "execution_count": 5,
   "id": "29953e05",
   "metadata": {},
   "outputs": [
    {
     "name": "stdout",
     "output_type": "stream",
     "text": [
      "                                                    Title          Rating  \\\n",
      "0                                       I Am Watching You               3   \n",
      "1       Three to Get Deadly\\n        (Stephanie Plum, #3)               3   \n",
      "2       Before the Coffee Gets Cold\\n        (Before t...               4   \n",
      "3       Dark Sacred Night\\n        (Renée Ballard, #2;...               4   \n",
      "4         Two for the Dough\\n        (Stephanie Plum, #2)               4   \n",
      "...                                                   ...             ...   \n",
      "268470                                           Stardust  Invalid rating   \n",
      "268471                                 The Graveyard Book  Invalid rating   \n",
      "268472                   The Ocean at the End of the Lane  Invalid rating   \n",
      "268473                                      American Gods  Invalid rating   \n",
      "268474                           Neil Gaiman's Neverwhere  Invalid rating   \n",
      "\n",
      "          User_id Series  First  Suggest  \n",
      "0       169695558  False  False     True  \n",
      "1       169695558   True  False    False  \n",
      "2       169695558   True   True     True  \n",
      "3       169695558   True  False    False  \n",
      "4       169695558   True  False    False  \n",
      "...           ...    ...    ...      ...  \n",
      "268470   89301330  False  False     True  \n",
      "268471   89301330  False  False     True  \n",
      "268472   89301330  False  False     True  \n",
      "268473   89301330  False  False     True  \n",
      "268474   89301330  False  False     True  \n",
      "\n",
      "[261826 rows x 6 columns]\n"
     ]
    }
   ],
   "source": [
    "df['Series'] = df['Title'].str.contains('\\n', case=False)\n",
    "df['First'] = df['Title'].str.contains(r\"#1\\)\", case=False) & df['Series']\n",
    "# active_rows = df[df['Active']]\n",
    "# print(df[df['First']])\n",
    "\n",
    "df['Suggest'] = (df['Series'] == False) | (df['First'] == True)\n",
    "print(df)\n",
    "\n",
    "df.to_csv(\"goodreads_ratings_series.csv\", index=False)\n",
    "\n",
    "with open(\"suggest.pkl\", \"wb\") as file:\n",
    "    pickle.dump(list(df['Suggest']), file)"
   ]
  },
  {
   "cell_type": "code",
   "execution_count": 6,
   "id": "b00dbac5",
   "metadata": {},
   "outputs": [
    {
     "name": "stdout",
     "output_type": "stream",
     "text": [
      "Harry Potter and the Sorcerer's Stone\n",
      "        (Harry Potter, #1)\n",
      "To Kill a Mockingbird\n",
      "The Hunger Games\n",
      "        (The Hunger Games, #1)\n",
      "Twilight\n",
      "        (The Twilight Saga, #1)\n",
      "The Great Gatsby\n",
      "The Catcher in the Rye\n",
      "Animal Farm\n",
      "Harry Potter and the Prisoner of Azkaban\n",
      "        (Harry Potter, #3)\n",
      "1984\n",
      "Harry Potter and the Chamber of Secrets\n",
      "        (Harry Potter, #2)\n",
      "The Hobbit, or There and Back Again\n",
      "        (The Lord of the Rings, #0)\n",
      "Harry Potter and the Deathly Hallows\n",
      "        (Harry Potter, #7)\n",
      "Pride and Prejudice\n",
      "Lord of the Flies\n",
      "Harry Potter and the Goblet of Fire\n",
      "        (Harry Potter, #4)\n",
      "Romeo and Juliet\n",
      "The Kite Runner\n",
      "Harry Potter and the Half-Blood Prince\n",
      "        (Harry Potter, #6)\n",
      "The da Vinci Code\n",
      "        (Robert Langdon, #2)\n",
      "Harry Potter and the Order of the Phoenix\n",
      "        (Harry Potter, #5)\n",
      "Catching Fire\n",
      "        (The Hunger Games, #2)\n",
      "The Diary of a Young Girl\n",
      "The Lovely Bones\n",
      "The Help\n",
      "Mockingjay\n",
      "        (The Hunger Games, #3)\n",
      "Of Mice and Men\n",
      "The Alchemist\n",
      "The Girl with the Dragon Tattoo\n",
      "        (Millennium, #1)\n",
      "Memoirs of a Geisha\n",
      "The Fellowship of the Ring\n",
      "        (The Lord of the Rings, #1)\n",
      "Little Women\n",
      "Angels & Demons\n",
      "        (Robert Langdon, #1)\n",
      "New Moon\n",
      "        (The Twilight Saga, #2)\n",
      "Where the Sidewalk Ends\n",
      "Eclipse\n",
      "        (The Twilight Saga, #3)\n",
      "The Fault in Our Stars\n",
      "The Adventures of Huckleberry Finn\n",
      "Divergent\n",
      "        (Divergent, #1)\n",
      "Fahrenheit 451\n",
      "Water for Elephants\n",
      "Gone Girl\n",
      "The Time Traveler's Wife\n",
      "Jane Eyre\n",
      "The Lion, the Witch and the Wardrobe\n",
      "        (Chronicles of Narnia, #1)\n",
      "The Giver\n",
      "        (The Giver, #1)\n",
      "Breaking Dawn\n",
      "        (The Twilight Saga, #4)\n",
      "The Secret Life of Bees\n",
      "The Book Thief\n",
      "Eat, Pray, Love\n",
      "Brave New World\n",
      "The Girl on the Train\n",
      "A Game of Thrones\n",
      "        (A Song of Ice and Fire, #1)\n",
      "Where the Crawdads Sing\n",
      "The Notebook\n",
      "        (The Notebook, #1)\n",
      "Wuthering Heights\n",
      "Life of Pi\n",
      "The Lightning Thief\n",
      "        (Percy Jackson and the Olympians, #1)\n",
      "The Curious Incident of the Dog in the Night-Time\n",
      "Slaughterhouse-Five\n",
      "Frankenstein\n",
      "The Odyssey\n",
      "Fifty Shades of Grey\n",
      "        (Fifty Shades, #1)\n",
      "The Seven Husbands of Evelyn Hugo\n",
      "It Ends with Us\n",
      "        (It Ends with Us, #1)\n",
      "A Tale of Two Cities\n",
      "Eragon\n",
      "        (The Inheritance Cycle, #1)\n",
      "The Little Prince\n",
      "Gone with the Wind\n",
      "The Golden Compass\n",
      "        (His Dark Materials, #1)\n",
      "A Thousand Splendid Suns\n",
      "The Giving Tree\n",
      "The Count of Monte Cristo\n",
      "A Court of Thorns and Roses\n",
      "        (A Court of Thorns and Roses, #1)\n",
      "One Hundred Years of Solitude\n",
      "The Shining\n",
      "        (The Shining, #1)\n",
      "The Poisonwood Bible\n",
      "The Glass Castle\n",
      "Charlotteâ€™s Web\n",
      "All the Light We Cannot See\n",
      "Verity\n",
      "Dune\n",
      "        (Dune, #1)\n",
      "Educated\n",
      "A Time to Kill\n",
      "        (Jake Brigance, #1)\n",
      "Me Talk Pretty One Day\n",
      "The Joy Luck Club\n",
      "Sense and Sensibility\n",
      "The Girl Who Played with Fire\n",
      "        (Millennium, #2)\n",
      "Outlander\n",
      "        (Outlander, #1)\n",
      "Night\n",
      "        (The Night Trilogy, #1)\n",
      "The Silent Patient\n",
      "Middlesex\n",
      "The Outsiders\n",
      "Into the Wild\n",
      "The Scarlet Letter\n",
      "My Sisterâ€™s Keeper\n",
      "Fourth Wing\n",
      "        (The Empyrean, #1)\n",
      "The Midnight Library\n",
      "The Perks of Being a Wallflower\n",
      "The Secret Garden\n",
      "Enderâ€™s Game\n",
      "        (Ender's Saga, #1)\n"
     ]
    }
   ],
   "source": [
    "# Get a list of top titles in order\n",
    "top_titles = duplicate_counts_per_value.index.tolist()\n",
    "top_100 = top_titles[:100]\n",
    "\n",
    "for title in top_100:\n",
    "    print(title)\n",
    "    \n",
    "with open(\"top_100.pkl\", \"wb\") as file:\n",
    "    pickle.dump(top_100, file)"
   ]
  },
  {
   "cell_type": "code",
   "execution_count": 7,
   "id": "bcc02640",
   "metadata": {},
   "outputs": [
    {
     "name": "stdout",
     "output_type": "stream",
     "text": [
      "num_titles = 3023\n",
      "ratings size =  (3350, 3023)\n",
      "ratings size =  (2271, 3023)\n"
     ]
    }
   ],
   "source": [
    "# threshold = 10#num_users * 0.1\n",
    "# pop_titles = list(duplicate_counts_per_value[duplicate_counts_per_value > threshold].index)\n",
    "# my_titles = df.loc[df[\"User_id\"] == 169695558, \"Title\"].tolist()\n",
    "# # print(my_titles)\n",
    "\n",
    "# print(\"pop titles len = \", len(pop_titles))\n",
    "# # print(pop_titles)\n",
    "# print(\"my titles len = \", len(my_titles))\n",
    "# titles = list(set(pop_titles))# + my_titles))\n",
    "\n",
    "#load the titles, \n",
    "with open(\"titles.pkl\", \"rb\") as file:\n",
    "    titles = pickle.load(file)\n",
    "    \n",
    "#If I need to filter out any titles, like box sets\n",
    "# # print(titles)\n",
    "# print(\"titles = \", len(titles))\n",
    "# filtered_titles = [title for title in titles if \"holy bible\" not in title.lower()]\n",
    "# print(\"filtered_titles = \", len(filtered_titles))\n",
    "# # print(filtered_titles)\n",
    "# with open(\"titles.pkl\", \"wb\") as file:\n",
    "#     pickle.dump(filtered_titles, file)\n",
    "\n",
    "\n",
    "# #remove Harry Potter titles:\n",
    "# titles = [s for s in titles if \"Harry Potter\" not in s]\n",
    "\n",
    "num_titles = len(titles)\n",
    "\n",
    "\n",
    "# print(titles)\n",
    "# print(titles)\n",
    "print(\"num_titles =\", num_titles)\n",
    "\n",
    "# ratings = np.full((num_users, num_titles), None)\n",
    "ratings = np.zeros((num_users, num_titles))\n",
    "\n",
    "for index, row in df.iterrows():\n",
    "    if row['Title'] in titles:\n",
    "        try:\n",
    "            ratings[user_ids.index(row['User_id']), titles.index(row[\"Title\"])] = int(row[\"Rating\"])\n",
    "#             print(\"found \", row[\"Title\"])\n",
    "        except:\n",
    "            pass\n",
    "        \n",
    "print(\"ratings size = \", ratings.shape)\n",
    "ratings = ratings[~np.all(ratings == 0, axis=1)]\n",
    "print(\"ratings size = \", ratings.shape)\n",
    "# Save the list to a file\n",
    "# with open(\"titles.pkl\", \"wb\") as file:\n",
    "#     pickle.dump(titles, file)\n",
    "    \n",
    "    \n",
    "#make suggest list \n",
    "suggest = [True] * len(titles)\n",
    "for i, this in enumerate(titles):\n",
    "    if '\\n' in this:\n",
    "        if \"#1\" not in this:\n",
    "            suggest[i] = False\n",
    "# df['Series'] = df['Title'].str.contains('\\n', case=False)\n",
    "# df['First'] = df['Title'].str.contains('#1', case=False) & df['Series']\n",
    "# # active_rows = df[df['Active']]\n",
    "# # print(df[df['First']])\n",
    "\n",
    "# df['Suggest'] = (df['Series'] == False) | (df['First'] == True)\n",
    "# print(df)\n",
    "\n",
    "# df.to_csv(\"goodreads_ratings_series.csv\", index=False)\n",
    "\n"
   ]
  },
  {
   "cell_type": "code",
   "execution_count": 8,
   "id": "6e4b1dc1",
   "metadata": {},
   "outputs": [
    {
     "name": "stdout",
     "output_type": "stream",
     "text": [
      "Loaded list: [True, False, True, True, True, True, False, True, True, True, False, True, False, True, True, False, True, False, True, True, True, False, True, True, True, True, True, True, True, True, True, True, True, True, True, True, True, True, True, True, True, True, True, True, True, True, True, True, True, False, True, False, True, True, True, True, True, True, True, True, True, True, False, True, True, True, True, True, False, True, True, True, True, False, False, True, True, True, True, True, True, True, True, True, True, True, True, True, True, True, False, True, True, True, True, True, True, True, True, True, True, True, True, True, True, True, False, True, True, True, True, True, True, True, False, True, True, True, False, True, True, True, True, True, True, True, True, True, False, False, False, False, False, True, True, True, True, True, True, True, True, True, False, True, True, True, True, True, True, True, True, True, True, True, True, True, True, True, True, True, True, False, True, True, True, True, True, False, True, False, False, True, True, True, True, True, True, True, False, True, True, True, True, True, True, True, True, True, True, True, True, True, False, True, True, True, False, True, True, True, True, True, True, False, False, True, False, True, False, True, False, True, True, True, False, True, True, True, True, True, True, True, True, True, True, True, True, True, True, False, True, True, True, True, False, True, True, True, True, True, False, True, True, True, True, False, True, True, True, True, False, False, False, True, True, False, True, True, True, True, False, True, True, False, True, True, False, True, False, True, True, True, False, True, True, True, True, True, True, True, True, True, True, True, True, True, True, True, True, True, True, False, True, True, True, True, True, True, True, False, False, True, True, False, True, False, False, True, False, False, True, False, True, True, True, True, True, False, True, False, True, True, True, True, True, True, True, True, True, False, True, False, True, True, True, True, True, True, True, True, False, False, False, True, False, True, False, True, True, True, True, True, True, True, True, True, True, True, True, True, False, False, True, False, False, False, True, False, True, True, True, True, True, True, True, True, False, False, False, True, True, True, True, True, True, False, True, False, True, False, True, True, False, False, True, True, True, True, False, True, True, True, True, True, True, True, True, True, True, True, True, True, True, True, True, True, True, True, False, True, True, True, True, True, True, True, True, True, True, True, True, True, True, True, True, True, False, True, True, True, False, True, True, True, True, True, True, True, False, True, True, False, True, True, True, True, True, False, True, False, True, True, True, True, True, True, False, True, True, True, True, True, True, False, True, True, True, True, True, True, True, True, False, True, True, False, True, True, True, True, False, True, True, True, False, False, False, True, True, True, True, True, False, True, True, False, True, True, True, True, True, True, True, True, True, True, True, True, True, True, True, True, True, False, True, True, True, True, True, True, True, True, True, True, False, True, False, True, False, True, True, True, True, True, True, True, True, True, True, True, True, True, False, True, True, True, False, True, True, True, True, True, False, True, True, True, True, True, False, False, True, True, True, True, True, True, True, False, True, True, True, True, True, True, False, False, True, True, True, False, True, True, True, True, True, False, True, True, True, True, True, True, True, False, True, True, False, True, False, True, True, True, True, True, True, True, True, True, True, True, True, True, True, True, False, True, True, True, False, False, True, True, True, False, True, True, True, True, True, True, False, True, True, True, True, True, True, True, True, True, True, True, True, True, False, True, True, True, True, False, True, True, True, True, False, True, False, True, True, True, True, True, True, True, True, True, False, True, False, True, False, True, True, True, False, True, True, True, True, False, True, True, True, True, True, True, True, False, False, True, True, True, True, False, False, True, True, True, True, True, True, True, True, True, True, True, True, True, True, False, True, True, True, True, True, True, True, True, True, True, True, True, True, True, False, True, True, True, True, False, True, True, True, True, True, True, True, True, True, False, True, True, True, True, True, True, True, True, True, True, True, True, False, True, True, False, False, True, True, True, True, True, False, False, True, False, True, True, True, True, True, True, False, False, False, False, True, True, True, False, True, True, True, True, True, False, True, True, True, False, True, True, True, True, True, True, True, True, True, True, True, True, True, False, True, True, True, True, False, True, True, True, False, True, True, False, True, True, True, True, True, True, True, False, True, False, True, True, True, True, True, True, True, False, False, True, True, True, False, True, True, True, True, True, True, True, True, True, True, True, True, True, False, True, False, False, True, True, True, True, True, True, True, True, True, True, True, True, False, True, True, True, True, False, True, True, False, True, True, True, True, False, True, True, True, True, True, True, False, True, True, True, False, True, False, True, True, True, True, False, True, True, False, True, True, True, True, True, True, True, True, False, False, True, True, True, True, True, True, True, True, True, True, True, False, True, True, True, True, True, True, True, False, True, True, True, True, True, True, True, True, True, True, False, True, True, False, True, True, True, True, True, True, False, True, False, True, True, True, True, True, True, True, False, True, True, True, True, True, True, True, False, True, True, True, True, True, True, True, True, True, True, True, True, True, False, True, True, True, True, False, True, True, True, True, True, True, True, True, False, True, True, True, True, False, True, True, True, True, True, True, True, False, True, True, True, False, True, False, True, True, True, True, False, True, True, True, True, True, True, True, False, True, True, True, True, True, True, True, True, True, True, True, True, True, False, False, True, True, True, True, True, True, True, True, True, True, True, False, True, True, True, False, True, False, True, True, True, True, True, False, False, True, True, False, True, True, True, True, True, False, True, True, True, True, True, True, True, True, True, True, True, False, True, True, True, True, True, True, False, False, True, False, True, True, True, False, True, True, True, True, True, False, True, True, False, True, True, True, False, True, True, False, True, True, True, True, True, True, False, True, True, True, True, True, False, False, True, True, True, True, True, False, True, False, True, True, False, True, True, True, True, True, True, True, True, True, True, True, True, False, True, True, True, True, False, True, True, True, False, True, True, True, True, True, False, True, True, True, True, True, True, True, True, True, True, True, True, False, False, True, True, True, False, True, True, True, True, True, True, True, True, True, True, True, True, False, True, True, True, True, True, False, False, True, False, True, True, True, False, True, True, True, True, True, True, True, False, True, True, True, True, True, True, False, True, True, False, True, False, True, True, True, True, True, True, True, True, True, True, True, True, True, True, True, True, True, False, True, True, False, True, True, True, False, True, False, True, True, True, True, True, True, True, True, False, True, False, True, True, True, True, True, False, True, False, True, True, True, True, True, True, True, True, False, True, True, False, False, True, True, True, True, False, True, True, True, True, False, True, True, True, False, True, True, False, True, True, True, True, True, True, True, True, True, False, False, True, True, False, True, True, True, False, True, True, True, True, True, False, True, False, True, True, True, True, True, True, True, True, True, True, True, False, False, True, True, True, True, True, False, False, True, True, True, True, True, True, True, True, False, False, False, True, True, False, False, False, True, False, False, True, True, True, True, True, False, True, False, True, False, False, False, True, True, True, True, False, True, True, True, False, True, True, True, True, True, True, True, True, True, True, True, True, True, True, True, True, True, True, True, True, True, True, True, True, True, True, True, True, True, True, True, True, True, True, True, False, True, True, True, False, False, True, True, True, True, True, False, False, True, False, True, True, True, True, True, True, False, True, True, False, True, True, True, True, True, True, True, True, False, True, True, True, True, True, True, True, True, True, True, True, True, True, True, True, True, True, False, True, True, True, False, True, False, True, True, True, False, True, True, False, True, True, False, False, True, True, True, False, True, True, True, True, True, True, True, True, True, True, True, True, True, False, True, True, True, True, False, True, False, True, True, True, True, True, False, True, True, True, True, True, False, True, False, False, True, True, False, True, True, True, True, True, True, True, True, True, True, True, True, True, True, True, False, True, True, True, True, True, True, True, False, True, True, True, True, True, True, True, False, True, True, True, True, True, False, True, True, True, True, True, True, True, True, True, True, True, True, True, True, False, True, False, True, True, True, True, True, True, True, False, True, True, False, True, True, True, True, True, True, True, True, False, True, True, True, True, True, True, True, True, True, True, True, False, True, True, True, True, True, False, True, True, True, True, True, True, True, True, False, True, True, True, True, True, True, True, True, True, True, True, False, False, True, True, True, True, True, True, True, True, True, True, True, True, False, True, True, True, True, True, False, True, True, True, True, False, True, True, True, True, True, False, True, True, False, True, False, True, True, True, True, True, True, True, True, True, True, True, True, True, True, True, True, True, True, True, True, True, True, True, True, True, True, False, False, True, True, True, True, True, True, True, True, False, True, True, True, True, False, False, True, True, True, True, False, True, True, True, True, False, True, True, True, False, False, True, True, True, True, True, False, True, True, False, True, True, False, True, True, False, True, True, True, True, False, True, False, False, True, True, True, True, True, False, True, True, True, True, True, True, True, True, False, True, True, True, True, True, True, True, True, True, True, True, True, True, True, True, True, True, True, False, True, False, False, True, True, True, True, True, True, True, False, False, True, True, True, True, True, False, False, False, True, True, True, True, True, True, True, True, True, False, True, True, True, True, True, True, True, True, False, True, True, False, True, True, True, True, True, True, True, True, True, True, True, True, True, True, True, True, True, True, True, True, True, True, True, True, False, False, True, True, False, True, True, True, False, True, True, False, True, True, True, True, False, True, True, True, True, True, True, True, False, False, True, True, False, True, True, True, True, True, False, True, True, True, True, True, True, False, True, False, True, False, False, True, True, False, True, True, True, False, False, True, True, True, False, True, True, True, False, True, True, True, False, True, True, True, False, True, True, True, True, True, True, True, True, True, False, True, True, True, True, True, True, True, True, True, True, False, True, True, True, True, True, True, False, True, True, True, True, True, True, True, True, False, True, True, True, False, True, True, True, True, False, True, True, True, True, False, False, False, True, False, True, True, True, True, False, True, True, True, True, True, True, True, False, True, True, True, True, True, True, True, True, True, True, True, True, True, True, False, True, True, True, False, True, True, True, True, False, True, True, True, True, True, False, True, True, True, True, True, True, False, True, True, False, True, True, True, True, True, False, False, True, True, False, True, True, False, False, True, False, True, True, True, True, True, True, True, True, True, True, False, True, False, True, True, True, True, True, True, True, True, True, True, True, True, True, True, True, True, True, True, True, True, True, True, False, False, True, False, True, True, True, True, True, True, True, False, True, True, False, True, True, True, True, True, True, True, True, True, True, True, False, False, True, True, True, True, True, True, True, True, True, True, True, False, True, False, False, True, True, True, True, True, False, True, True, True, True, True, True, True, True, True, False, True, True, True, True, True, True, True, True, True, True, True, False, False, True, True, True, True, True, True, True, True, True, True, True, False, True, True, True, True, True, True, True, True, True, False, True, False, False, True, False, True, False, False, True, True, False, True, False, True, True, False, True, True, True, True, True, True, True, False, True, True, False, True, True, True, True, True, True, True, True, True, False, True, False, True, True, True, True, False, True, True, True, False, True, True, True, True, True, True, True, True, True, True, True, False, True, True, False, True, False, True, True, True, True, False, True, False, True, False, True, True, False, True, False, True, True, True, True, True, True, True, True, True, True, True, True, True, False, True, True, True, False, True, False, True, True, True, True, True, True, True, True, True, True, True, False, True, True, True, False, True, False, False, True, True, True, True, True, False, False, True, True, True, False, False, False, True, True, True, True, True, True, True, True, True, True, True, True, True, True, True, True, True, False, False, True, True, True, True, True, True, True, True, True, True, True, True, True, True, True, False, True, True, True, True, True, False, True, True, True, True, True, False, True, True, True, True, False, True, False, False, True, True, True, True, False, False, False, False, True, True, True, True, True, True, True, True, False, True, False, True, False, False, True, True, True, True, False, True, True, True, True, True, True, False, False, True, True, True, True, True, True, False, True, True, True, False, True, True, True, True, True, True, True, False, False, True, True, False, True, True, True, True, True, True, False, True, True, True, True, True, False, False, True, True, True, True, True, True, False, True, True, True, True, True, True, True, True, True, False, True, True, False, True, True, True, True, True, True, True, True, True, True, True, True, True, True, True, True, False, True, False, False, True, False, True, True, True, True, True, True, False, True, True, True, True, True, True, True, True, True, True, True, False, True, True, False, True, True, False, True, True, True, True, True, True, True, True, True, False, True, False, True, True, True, True, True, True, False, True, True, False, True, True, True, True, True, True, True, True, True, False, True, True, True, False, True, False, True, True, True, True, True, True, True, True, True, False, True, True, True, True, True, True, False, True, True, True, False, True, True, True, False, True, True, False, False, False, True, True, True, False, False, True, False, True, True, False, True, True, True, True, False, False, True, True, True, True, True, True, True, False, True, True, True, True, True, True, False, True, True, True, True, True, True, True, True, True, True, True, True, True, True, True, True, True, True, True, True, False, True, True, True, True, True, True, True, True, True, True, True, False, True, False, True, False, True, True, True, True, True, True, True, False, True, True, True, True, True, True, False, True, True, False, True, False, True, True, True, True, True, True, False, True, True, True, True, False, True, False, False, True, True, True, True, False, False, True, False, True, True, True, True, False, True, True, False, True, True, True, True, True, True, True, True, True, True, True, True, True, True, True, True, True, True, True, True, True, True, True, True, True, False, True, True, True, True, True, False, True, True, True, True, True, False, True, True, False, True, False, True, True, True, True, True, False, True, True, True, True, True, True, True, False, True, True, True, False, True, True, True, True, True, False, True, False, True, True, False, True, True, True, True, True, True, True, True, False, False, True, True, True, True, True, True, True, True, True, True, True, True, True, True, True, True, False, True, True, True, True, True, False, True, True, True, True, True, True, False, True, False, True, True, True, True, True, True, True, False, True, True, False, False, True, True, True, True, True, True, False, True, True, True, True, False, True, True, True, True, True, True, True, True, True, True, True, True, True, True, True, True, False, True, True, True, True, True, True, True, True, False, True, True, True, True, True, False, False, True, False, True, True, True, True, True, True, True, True, True, True, True, False, False, True, False, True, True, True, True, True, True, True, False, True, True, False, True, False, True, True, False, False, True, True, True, True, True, True, True, True, True, True, True, True, False, True, True, True, True, True, True, True, False, True, True, True, True, True, True, True, True, True, True, True, True, True, True, True, True, True, True, True, True, True, False, True, True, False, True, True, True, True, True, True, True, False, True, True, True, True, True, True, False, True, True, True, False, True, False, True, True, True, True, True, False, True, True, True, True, True, True, True, True, True, True, False, True, True, True, True, False, True, True, True]\n"
     ]
    }
   ],
   "source": [
    "# print(suggest)\n",
    "with open('suggest.pkl', 'wb') as f:\n",
    "    pickle.dump(suggest, f)\n",
    "    \n",
    "with open('suggest.pkl', 'rb') as f:\n",
    "    loaded_bool_list = pickle.load(f)\n",
    "\n",
    "print(\"Loaded list:\", loaded_bool_list)\n",
    "    \n",
    "# with open(\"suggest.pkl\", \"wb\") as file:\n",
    "#     try:\n",
    "#         pickle.dump(suggest, file)\n",
    "#     except:\n",
    "#         print(\"Problem!!!\")"
   ]
  },
  {
   "cell_type": "code",
   "execution_count": 35,
   "id": "af88eaf4",
   "metadata": {},
   "outputs": [
    {
     "name": "stdout",
     "output_type": "stream",
     "text": [
      "(2271, 3023)\n",
      "(1666, 3023)\n",
      "percentage_nonzero = 1.6 %\n"
     ]
    }
   ],
   "source": [
    "ratings_df = pd.DataFrame(ratings)\n",
    "print(ratings_df.shape)\n",
    "#delete users that don't have any of these ratings\n",
    "# ratings_df = ratings_df.loc[~(ratings_df == 0).all(axis=1)]\n",
    "ratings_df = ratings_df.loc[(ratings_df != 0).sum(axis=1) >= 5] #need at least 4 entries to stay\n",
    "print(ratings_df.shape)\n",
    "\n",
    "# Calculate percentage of non-zero elements\n",
    "percentage_nonzero = (np.count_nonzero(ratings_df) / ratings_df.size) * 100\n",
    "print(\"percentage_nonzero =\", round(percentage_nonzero, 1), '%')\n",
    "\n",
    "# Save the list to a file\n",
    "with open(\"ratings_df.pkl\", \"wb\") as file:\n",
    "    pickle.dump(ratings_df, file)"
   ]
  },
  {
   "cell_type": "code",
   "execution_count": 34,
   "id": "e1008814",
   "metadata": {},
   "outputs": [
    {
     "data": {
      "text/plain": [
       "Text(0, 0.5, 'Readers')"
      ]
     },
     "execution_count": 34,
     "metadata": {},
     "output_type": "execute_result"
    },
    {
     "data": {
      "image/png": "[encoded data removed]",
      "text/plain": [
       "<Figure size 432x288 with 2 Axes>"
      ]
     },
     "metadata": {
      "needs_background": "light"
     },
     "output_type": "display_data"
    }
   ],
   "source": [
    "import matplotlib.pyplot as plt\n",
    "import matplotlib.colors as mcolors\n",
    "\n",
    "# Create a custom colormap with white, yellow, and red\n",
    "cmap = mcolors.ListedColormap(['white', \"yellow\", 'red'])\n",
    "bounds = [0, 0.1, 0.2, 5]  # Define ranges: 0 (white), 0.1-0.5 (yellow), 0.5-1 (red)\n",
    "norm = mcolors.BoundaryNorm(bounds, len(cmap.colors))\n",
    "\n",
    "plt.imshow(ratings_df, cmap=cmap, norm=norm)\n",
    "plt.colorbar()\n",
    "plt.xlabel(\"Books\")\n",
    "plt.ylabel(\"Readers\")"
   ]
  },
  {
   "cell_type": "code",
   "execution_count": 33,
   "id": "d78fda65",
   "metadata": {},
   "outputs": [
    {
     "data": {
      "text/plain": [
       "0       0.0\n",
       "1       0.0\n",
       "2       0.0\n",
       "3       0.0\n",
       "4       0.0\n",
       "       ... \n",
       "2263    0.0\n",
       "2264    0.0\n",
       "2266    0.0\n",
       "2267    0.0\n",
       "2268    0.0\n",
       "Name: 0, Length: 1390, dtype: float64"
      ]
     },
     "execution_count": 33,
     "metadata": {},
     "output_type": "execute_result"
    }
   ],
   "source": []
  },
  {
   "cell_type": "code",
   "execution_count": 11,
   "id": "a2d1ce5a",
   "metadata": {},
   "outputs": [
    {
     "data": {
      "text/plain": [
       "Text(0, 0.5, 'Number of books')"
      ]
     },
     "execution_count": 11,
     "metadata": {},
     "output_type": "execute_result"
    },
    {
     "data": {
      "image/png": "[encoded data removed]",
      "text/plain": [
       "<Figure size 432x288 with 1 Axes>"
      ]
     },
     "metadata": {
      "needs_background": "light"
     },
     "output_type": "display_data"
    }
   ],
   "source": [
    "plt.hist(duplicate_counts_per_value, bins = 40)\n",
    "plt.ylim([0,50])\n",
    "plt.xlabel('Number of reads per book')\n",
    "plt.ylabel(\"Number of books\")\n",
    "# print(duplicate_counts_per_value)"
   ]
  },
  {
   "cell_type": "code",
   "execution_count": 12,
   "id": "ebcd3274",
   "metadata": {},
   "outputs": [
    {
     "data": {
      "text/plain": [
       "Text(0, 0.5, 'Number of users')"
      ]
     },
     "execution_count": 12,
     "metadata": {},
     "output_type": "execute_result"
    },
    {
     "data": {
      "image/png": "[encoded data removed]",
      "text/plain": [
       "<Figure size 432x288 with 1 Axes>"
      ]
     },
     "metadata": {
      "needs_background": "light"
     },
     "output_type": "display_data"
    }
   ],
   "source": [
    "duplicate_counts_per_user = df['User_id'].value_counts()\n",
    "plt.hist(duplicate_counts_per_user, bins = 100)\n",
    "plt.ylim([0,75])\n",
    "plt.xlim([0,1000])\n",
    "plt.xlabel('Number of reads per user')\n",
    "plt.ylabel(\"Number of users\")\n",
    "# print(duplicate_counts_per_value)"
   ]
  },
  {
   "cell_type": "code",
   "execution_count": 13,
   "id": "3bf55f3e",
   "metadata": {},
   "outputs": [
    {
     "name": "stdout",
     "output_type": "stream",
     "text": [
      "5464046     1846\n",
      "29254806    1000\n",
      "2040319     1000\n",
      "4776032     1000\n",
      "1157860     1000\n",
      "            ... \n",
      "16912691       1\n",
      "56137295       1\n",
      "56137291       1\n",
      "56137284       1\n",
      "56137257       1\n",
      "Name: User_id, Length: 3350, dtype: int64\n",
      "[ 2.04146671  5.81180639 21.70534643 36.92542741 33.51595306]\n"
     ]
    },
    {
     "data": {
      "image/png": "[encoded data removed]",
      "text/plain": [
       "<Figure size 432x288 with 1 Axes>"
      ]
     },
     "metadata": {
      "needs_background": "light"
     },
     "output_type": "display_data"
    }
   ],
   "source": [
    "per_rating = df['Rating'].value_counts()\n",
    "print(duplicate_counts_per_user)\n",
    "# plt.hist(duplicate_counts_per_user)\n",
    "# plt.ylim([0,75])\n",
    "# plt.xlim([0,1000])\n",
    "plt.xlabel('Rating')\n",
    "plt.ylabel(\"Percent of all ratings\")\n",
    "# print(duplicate_counts_per_value)\n",
    "per_rating_list = np.array([per_rating['1'], per_rating['2'], per_rating['3'], per_rating['4'], per_rating['5']])\n",
    "total = per_rating_list.sum()\n",
    "# plt.plot([1, 2, 3, 4, 5], [per_rating['1'], per_rating['2'], per_rating['3'], per_rating['4'], per_rating['5']])\n",
    "plt.bar([1, 2, 3, 4, 5], per_rating_list / total * 100)#, color='skyblue')\n",
    "\n",
    "print(per_rating_list / total * 100)"
   ]
  },
  {
   "cell_type": "code",
   "execution_count": null,
   "id": "5b268e0f",
   "metadata": {},
   "outputs": [],
   "source": []
  }
 ],
 "metadata": {
  "kernelspec": {
   "display_name": "Python 3 (ipykernel)",
   "language": "python",
   "name": "python3"
  },
  "language_info": {
   "codemirror_mode": {
    "name": "ipython",
    "version": 3
   },
   "file_extension": ".py",
   "mimetype": "text/x-python",
   "name": "python",
   "nbconvert_exporter": "python",
   "pygments_lexer": "ipython3",
   "version": "3.9.5"
  }
 },
 "nbformat": 4,
 "nbformat_minor": 5
}
